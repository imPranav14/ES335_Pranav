{
  "nbformat": 4,
  "nbformat_minor": 0,
  "metadata": {
    "colab": {
      "provenance": []
    },
    "kernelspec": {
      "name": "python3",
      "display_name": "Python 3"
    },
    "language_info": {
      "name": "python"
    }
  },
  "cells": [
    {
      "cell_type": "markdown",
      "source": [
        "Q1\n",
        "\n",
        "Matrix multiplication between a (n, k) matrix and a (k, m) matrix involves computing the dot product of each row of the first matrix with each column of the second matrix.\n",
        "\n",
        "Therefore, the total number of multiplications in the matrix multiplication is n*k*m and the total number of additions is n*k*(m-1)."
      ],
      "metadata": {
        "id": "VQc8cVCMQGvj"
      }
    },
    {
      "cell_type": "markdown",
      "source": [
        "Q2"
      ],
      "metadata": {
        "id": "fEyIy5OXQery"
      }
    },
    {
      "cell_type": "code",
      "source": [
        "import time\n",
        "import numpy as np\n",
        "\n",
        "def matrix_multiply_lists(matrix_a, matrix_b):\n",
        "    # Check if the matrices can be multiplied\n",
        "    if len(matrix_a[0]) != len(matrix_b):\n",
        "        raise ValueError(\"Matrices cannot be multiplied. Inner dimensions must match.\")\n",
        "\n",
        "    result = [[0 for _ in range(len(matrix_b[0]))] for _ in range(len(matrix_a))]\n",
        "\n",
        "    for i in range(len(matrix_a)):\n",
        "        for j in range(len(matrix_b[0])):\n",
        "            for k in range(len(matrix_b)):\n",
        "                result[i][j] += matrix_a[i][k] * matrix_b[k][j]\n",
        "\n",
        "    return result\n",
        "\n",
        "# Example matrices\n",
        "matrix_a = [[1, 2], [3, 4], [5, 6]]\n",
        "matrix_b = [[7, 8], [9, 10]]\n",
        "\n",
        "# Using lists of lists\n",
        "start_time_lists = time.time()\n",
        "result_lists = matrix_multiply_lists(matrix_a, matrix_b)\n",
        "end_time_lists = time.time()\n",
        "time_lists = end_time_lists - start_time_lists\n",
        "\n",
        "# Using NumPy\n",
        "matrix_a_np = np.array(matrix_a)\n",
        "matrix_b_np = np.array(matrix_b)\n",
        "\n",
        "start_time_numpy = time.time()\n",
        "result_numpy = np.dot(matrix_a_np, matrix_b_np)\n",
        "end_time_numpy = time.time()\n",
        "time_numpy = end_time_numpy - start_time_numpy\n",
        "\n",
        "# Comparing results\n",
        "print(\"Result using lists of lists:\")\n",
        "print(result_lists)\n",
        "\n",
        "print(\"\\nResult using NumPy:\")\n",
        "print(result_numpy)\n",
        "\n",
        "# Comparing timing\n",
        "print(\"\\nTime taken using lists of lists:\", time_lists, \"seconds\")\n",
        "print(\"Time taken using NumPy:\", time_numpy, \"seconds\")\n",
        "\n",
        "# Comparing which one is faster\n",
        "if time_numpy < time_lists:\n",
        "    print(\"\\nNumPy is faster.\")\n",
        "else:\n",
        "    print(\"\\nLists of lists are faster.\")\n"
      ],
      "metadata": {
        "colab": {
          "base_uri": "https://localhost:8080/"
        },
        "id": "_kHzHASlQKza",
        "outputId": "b11f63d6-fae5-4118-a872-3698c26f7848"
      },
      "execution_count": 3,
      "outputs": [
        {
          "output_type": "stream",
          "name": "stdout",
          "text": [
            "Result using lists of lists:\n",
            "[[25, 28], [57, 64], [89, 100]]\n",
            "\n",
            "Result using NumPy:\n",
            "[[ 25  28]\n",
            " [ 57  64]\n",
            " [ 89 100]]\n",
            "\n",
            "Time taken using lists of lists: 0.00016546249389648438 seconds\n",
            "Time taken using NumPy: 0.00015401840209960938 seconds\n",
            "\n",
            "NumPy is faster.\n"
          ]
        }
      ]
    },
    {
      "cell_type": "markdown",
      "source": [
        "In most cases, NumPy is expected to be faster than using lists of lists for matrix multiplication. NumPy is implemented in C and optimized for numerical operations, making it more efficient for large matrix computations compared to pure Python implementations with lists. The time difference becomes more significant as the size of matrices increases."
      ],
      "metadata": {
        "id": "bQVWfIbr2ZKS"
      }
    },
    {
      "cell_type": "markdown",
      "source": [
        "Q3"
      ],
      "metadata": {
        "id": "AM6K5SoORCA3"
      }
    },
    {
      "cell_type": "code",
      "source": [
        "def find_median_sort(arr):\n",
        "    sorted_arr = sorted(arr)\n",
        "    n = len(arr)\n",
        "    if n % 2 == 0:\n",
        "        # If the array has an even number of elements, average the middle two\n",
        "        return (sorted_arr[n // 2 - 1] + sorted_arr[n // 2]) / 2\n",
        "    else:\n",
        "        # If the array has an odd number of elements, return the middle element\n",
        "        return sorted_arr[n // 2]\n",
        "\n",
        "\n",
        "# Example array\n",
        "arr = [4, 2, 7, 1, 9, 3, 6, 5, 8, 14]\n",
        "\n",
        "# Using sorting to find the median\n",
        "start_time_sort = time.time()\n",
        "median_sort = find_median_sort(arr)\n",
        "end_time_sort = time.time()\n",
        "time_sort = end_time_sort - start_time_sort\n",
        "\n",
        "# Using NumPy's median routine\n",
        "start_time_numpy = time.time()\n",
        "median_numpy = np.median(arr)\n",
        "end_time_numpy = time.time()\n",
        "time_numpy = end_time_numpy - start_time_numpy\n",
        "\n",
        "# Comparing results\n",
        "print(\"Median using sorting:\", median_sort)\n",
        "print(\"Median using NumPy:\", median_numpy)\n",
        "\n",
        "# Comparing timing\n",
        "print(\"\\nTime taken using sorting:\", time_sort, \"seconds\")\n",
        "print(\"Time taken using NumPy:\", time_numpy, \"seconds\")\n"
      ],
      "metadata": {
        "colab": {
          "base_uri": "https://localhost:8080/"
        },
        "id": "bpYUVl-qRDUW",
        "outputId": "0e1d01d7-8ac8-45e8-c0a6-76eec6275a86"
      },
      "execution_count": 4,
      "outputs": [
        {
          "output_type": "stream",
          "name": "stdout",
          "text": [
            "Median using sorting: 5.5\n",
            "Median using NumPy: 5.5\n",
            "\n",
            "Time taken using sorting: 8.630752563476562e-05 seconds\n",
            "Time taken using NumPy: 0.003226757049560547 seconds\n"
          ]
        }
      ]
    },
    {
      "cell_type": "code",
      "source": [
        "import time\n",
        "import numpy as np\n",
        "\n",
        "def find_median_sort(arr):\n",
        "    sorted_arr = sorted(arr)\n",
        "    n = len(arr)\n",
        "    if n % 2 == 0:\n",
        "        # If the array has an even number of elements, average the middle two\n",
        "        return (sorted_arr[n // 2 - 1] + sorted_arr[n // 2]) / 2\n",
        "    else:\n",
        "        # If the array has an odd number of elements, return the middle element\n",
        "        return sorted_arr[n // 2]\n",
        "\n",
        "def partition(arr, low, high):\n",
        "    pivot = arr[high]\n",
        "    i = low - 1\n",
        "\n",
        "    for j in range(low, high):\n",
        "        if arr[j] <= pivot:\n",
        "            i += 1\n",
        "            arr[i], arr[j] = arr[j], arr[i]\n",
        "\n",
        "    arr[i + 1], arr[high] = arr[high], arr[i + 1]\n",
        "    return i + 1\n",
        "\n",
        "def quickselect(arr, low, high, k):\n",
        "    if low <= high:\n",
        "        pivot_index = partition(arr, low, high)\n",
        "\n",
        "        if pivot_index == k:\n",
        "            return arr[pivot_index]\n",
        "        elif pivot_index < k:\n",
        "            return quickselect(arr, pivot_index + 1, high, k)\n",
        "        else:\n",
        "            return quickselect(arr, low, pivot_index - 1, k)\n",
        "\n",
        "def find_median_quickselect(arr):\n",
        "    n = len(arr)\n",
        "    if n % 2 == 0:\n",
        "        # If the array has an even number of elements, average the middle two\n",
        "        return (quickselect(arr, 0, n - 1, n // 2 - 1) + quickselect(arr, 0, n - 1, n // 2)) / 2\n",
        "    else:\n",
        "        # If the array has an odd number of elements, return the middle element\n",
        "        return quickselect(arr, 0, n - 1, n // 2)\n",
        "\n",
        "# Example array\n",
        "arr = [4, 2, 7, 1, 9, 3, 6, 5, 8]\n",
        "\n",
        "# Using sorting to find the median\n",
        "start_time_sort = time.time()\n",
        "median_sort = find_median_sort(arr)\n",
        "end_time_sort = time.time()\n",
        "time_sort = end_time_sort - start_time_sort\n",
        "\n",
        "# Using quickselect to find the median\n",
        "start_time_quickselect = time.time()\n",
        "median_quickselect = find_median_quickselect(arr)\n",
        "end_time_quickselect = time.time()\n",
        "time_quickselect = end_time_quickselect - start_time_quickselect\n",
        "\n",
        "# Using NumPy's median routine\n",
        "start_time_numpy = time.time()\n",
        "median_numpy = np.median(arr)\n",
        "end_time_numpy = time.time()\n",
        "time_numpy = end_time_numpy - start_time_numpy\n",
        "\n",
        "# Comparing results\n",
        "print(\"Median using sorting:\", median_sort)\n",
        "print(\"Median using quickselect:\", median_quickselect)\n",
        "print(\"Median using NumPy:\", median_numpy)\n",
        "\n",
        "# Comparing timing\n",
        "print(\"\\nTime taken using sorting:\", time_sort, \"seconds\")\n",
        "print(\"Time taken using quickselect:\", time_quickselect, \"seconds\")\n",
        "print(\"Time taken using NumPy:\", time_numpy, \"seconds\")\n"
      ],
      "metadata": {
        "colab": {
          "base_uri": "https://localhost:8080/"
        },
        "id": "t0F82qoy3bOL",
        "outputId": "73899201-c80f-43bb-b33e-3ab38a4d5d5e"
      },
      "execution_count": 5,
      "outputs": [
        {
          "output_type": "stream",
          "name": "stdout",
          "text": [
            "Median using sorting: 5\n",
            "Median using quickselect: 5\n",
            "Median using NumPy: 5.0\n",
            "\n",
            "Time taken using sorting: 8.344650268554688e-05 seconds\n",
            "Time taken using quickselect: 8.559226989746094e-05 seconds\n",
            "Time taken using NumPy: 0.0003457069396972656 seconds\n"
          ]
        }
      ]
    },
    {
      "cell_type": "markdown",
      "source": [
        "Q4\n",
        "\n",
        "f(x,y) = x²y + y³sin(x)\n",
        "\n",
        "∂f/∂x = 2xy + y³cos(x)\n",
        "\n",
        "∂f/∂y = x² + 3y²sin(x)"
      ],
      "metadata": {
        "id": "v-GWtKmwd423"
      }
    },
    {
      "cell_type": "markdown",
      "source": [
        "Q5"
      ],
      "metadata": {
        "id": "EqgYomgEirEY"
      }
    },
    {
      "cell_type": "code",
      "source": [
        "import jax\n",
        "import jax.numpy as jnp\n",
        "\n",
        "# Define the function f(x, y)\n",
        "def f(x, y):\n",
        "    return (x**2) * y + (y**3) * jnp.sin(x)\n",
        "\n",
        "# Define the gradient functions using JAX\n",
        "grad_x_fun = jax.grad(f, argnums=0)\n",
        "grad_y_fun = jax.grad(f, argnums=1)\n",
        "\n",
        "# Specify values for x and y\n",
        "x = jnp.float32(2.0)\n",
        "y = jnp.float32(3.0)\n",
        "\n",
        "# Compute the function value and its derivatives\n",
        "f_value = f(x, y)\n",
        "f_x = grad_x_fun(x, y)\n",
        "f_y = grad_y_fun(x, y)\n",
        "\n",
        "# Print the results with appropriate formatting\n",
        "print(f'Function value at X = {x} and Y = {y} is: {f_value:.4f}')\n",
        "print(f'Function derivative w.r.t X at X = {x} and Y = {y} is: {f_x:.4f}')\n",
        "print(f'Function derivative w.r.t Y at X = {x} and Y = {y} is: {f_y:.4f}')\n"
      ],
      "metadata": {
        "colab": {
          "base_uri": "https://localhost:8080/"
        },
        "id": "AqJHIx4l6efe",
        "outputId": "f30845f9-92c0-405a-e138-d99f94fe35f1"
      },
      "execution_count": 6,
      "outputs": [
        {
          "output_type": "stream",
          "name": "stdout",
          "text": [
            "Function value at X = 2.0 and Y = 3.0 is: 36.5510\n",
            "Function derivative w.r.t X at X = 2.0 and Y = 3.0 is: 0.7640\n",
            "Function derivative w.r.t Y at X = 2.0 and Y = 3.0 is: 28.5510\n"
          ]
        }
      ]
    },
    {
      "cell_type": "markdown",
      "source": [
        "Q6"
      ],
      "metadata": {
        "id": "jARJOhPziw2c"
      }
    },
    {
      "cell_type": "code",
      "source": [
        "from sympy import symbols, diff, sin\n",
        "\n",
        "# Define the symbolic variables x and y\n",
        "x, y = symbols('x y')\n",
        "\n",
        "# Define the function f(x, y)\n",
        "f = (x**2)*y + (y**3)*(sin(x))\n",
        "\n",
        "# Calculate the partial derivatives of f with respect to x and y\n",
        "df_dx = diff(f, x)\n",
        "df_dy = diff(f, y)\n",
        "\n",
        "# Specify the values for x and y at which to evaluate the derivatives\n",
        "x_value = 2.0\n",
        "y_value = 3.0\n",
        "\n",
        "# Substitute the values into the derivatives to get the numerical results\n",
        "derivative_wrt_x_value = df_dx.subs({x: x_value, y: y_value})\n",
        "derivative_wrt_y_value = df_dy.subs({x: x_value, y: y_value})\n",
        "\n",
        "# Print the results with appropriate formatting\n",
        "print(f\"The derivative with respect to x at x = {x_value} and y = {y_value} is: {derivative_wrt_x_value.evalf():.4f}\")\n",
        "\n",
        "# Print the results with appropriate formatting\n",
        "print(f\"The derivative with respect to y at x = {x_value} and y = {y_value} is: {derivative_wrt_y_value.evalf():.4f}\")\n"
      ],
      "metadata": {
        "colab": {
          "base_uri": "https://localhost:8080/"
        },
        "id": "oLcs2znEiyQQ",
        "outputId": "ab9cb06a-b100-4ad2-f46c-fc8118d5e192"
      },
      "execution_count": 7,
      "outputs": [
        {
          "output_type": "stream",
          "name": "stdout",
          "text": [
            "The derivative with respect to x at x = 2.0 and y = 3.0 is: 0.7640\n",
            "The derivative with respect to y at x = 2.0 and y = 3.0 is: 28.5510\n"
          ]
        }
      ]
    },
    {
      "cell_type": "markdown",
      "source": [
        "Q7"
      ],
      "metadata": {
        "id": "jmhcSe7wS1ue"
      }
    },
    {
      "cell_type": "code",
      "source": [
        "students_data = {\n",
        "    2022: {\n",
        "        'Branch 1': {\n",
        "            'Roll Number': 1,\n",
        "            'Name': 'A',\n",
        "            'Marks': {\n",
        "                'Maths': 100,\n",
        "                'English': 70,\n",
        "                # Add more subjects and marks as needed\n",
        "            }\n",
        "        },\n",
        "        'Branch 2': {\n",
        "            'Roll Number': 2,\n",
        "            'Name': 'B',\n",
        "            'Marks': {\n",
        "                'Maths': 80,\n",
        "                'English': 75,\n",
        "\n",
        "            }\n",
        "\n",
        "        }\n",
        "    },\n",
        "    2023: {\n",
        "        'Branch 1': {\n",
        "            'Roll Number': 3,\n",
        "            'Name': 'C',\n",
        "            'Marks': {\n",
        "                'Maths': 60,\n",
        "                'English': 70,\n",
        "\n",
        "            }},\n",
        "        'Branch 2': {\n",
        "            'Roll Number': 4,\n",
        "            'Name': 'D',\n",
        "            'Marks': {\n",
        "                'Maths': 95,\n",
        "                'English': 85,\n",
        "\n",
        "            }},\n",
        "    },\n",
        "    2024: {\n",
        "        'Branch 1': {\n",
        "            'Roll Number': 5,\n",
        "            'Name': 'E',\n",
        "            'Marks': {\n",
        "                'Maths': 80,\n",
        "                'English': 90,\n",
        "\n",
        "            }\n",
        "        },\n",
        "        'Branch 2': {\n",
        "            'Roll Number': 6,\n",
        "            'Name': 'F',\n",
        "            'Marks': {\n",
        "                'Maths': 70,\n",
        "                'English': 100,\n",
        "\n",
        "            }\n",
        "        },\n",
        "    },\n",
        "\n",
        "}"
      ],
      "metadata": {
        "id": "m5ItFok-S37F"
      },
      "execution_count": 8,
      "outputs": []
    },
    {
      "cell_type": "markdown",
      "source": [
        "Q8"
      ],
      "metadata": {
        "id": "c0MDhL2BWJ3f"
      }
    },
    {
      "cell_type": "code",
      "source": [
        "class Student:\n",
        "    def __init__(self, roll_number, name, marks):\n",
        "        self.roll_number = roll_number\n",
        "        self.name = name\n",
        "        self.marks = marks  # Dictionary with subjects and marks\n",
        "\n",
        "\n",
        "class Branch:\n",
        "    def __init__(self, name):\n",
        "        self.name = name\n",
        "        self.students = []  # List of Student objects\n",
        "\n",
        "\n",
        "class Year:\n",
        "    def __init__(self, year):\n",
        "        self.year = year\n",
        "        self.branches = []  # List of Branch objects\n",
        "\n",
        "\n",
        "# Creating instances for each student\n",
        "student1 = Student(1, 'A', {'Maths': 100, 'English': 70})\n",
        "student2 = Student(2, 'B', {'Maths': 80, 'English': 75})\n",
        "student3 = Student(3, 'C', {'Maths': 60, 'English': 70})\n",
        "student4 = Student(4, 'D', {'Maths': 95, 'English': 85})\n",
        "student5 = Student(5, 'E', {'Maths': 80, 'English': 90})\n",
        "student6 = Student(6, 'F', {'Maths': 70, 'English': 100})\n",
        "\n",
        "# Creating instances for each branch\n",
        "branch1_2022 = Branch('Branch 1')\n",
        "branch2_2022 = Branch('Branch 2')\n",
        "branch1_2023 = Branch('Branch 1')\n",
        "branch2_2023 = Branch('Branch 2')\n",
        "branch1_2024 = Branch('Branch 1')\n",
        "branch2_2024 = Branch('Branch 2')\n",
        "\n",
        "# Adding students to branches\n",
        "branch1_2022.students = [student1]\n",
        "branch2_2022.students = [student2]\n",
        "branch1_2023.students = [student3]\n",
        "branch2_2023.students = [student4]\n",
        "branch1_2024.students = [student5]\n",
        "branch2_2024.students = [student6]\n",
        "\n",
        "# Creating instances for each year\n",
        "year_2022 = Year(2022)\n",
        "year_2023 = Year(2023)\n",
        "year_2024 = Year(2024)\n",
        "\n",
        "# Adding branches to years\n",
        "year_2022.branches = [branch1_2022, branch2_2022]\n",
        "year_2023.branches = [branch1_2023, branch2_2023]\n",
        "year_2024.branches = [branch1_2024, branch2_2024]\n",
        "\n",
        "# Creating a list of years\n",
        "database = [year_2022, year_2023, year_2024]\n"
      ],
      "metadata": {
        "id": "5Lp0SeZ6WK18"
      },
      "execution_count": 15,
      "outputs": []
    },
    {
      "cell_type": "markdown",
      "source": [
        "Q9"
      ],
      "metadata": {
        "id": "TusBfD3GYhTp"
      }
    },
    {
      "cell_type": "code",
      "source": [
        "import matplotlib.pyplot as plt\n",
        "\n",
        "# Define the functions\n",
        "def y_x(x):\n",
        "    return x\n",
        "\n",
        "def y_x_squared(x):\n",
        "    return x**2\n",
        "\n",
        "def x_cubed_over_100(x):\n",
        "    return x**3 / 100\n",
        "\n",
        "def y_sin_x(x):\n",
        "    return np.sin(x)\n",
        "\n",
        "def y_sin_x_over_x(x):\n",
        "    return np.sin(x) / x\n",
        "\n",
        "def y_log_x(x):\n",
        "    return np.log(x)\n",
        "\n",
        "def y_exp_x(x):\n",
        "    return np.exp(x)\n",
        "\n",
        "# Generate x values\n",
        "x_values = np.arange(0.5, 100.5, 0.5)\n",
        "\n",
        "# Plotting the functions\n",
        "plt.figure(figsize=(12, 8))\n",
        "\n",
        "plt.subplot(3, 3, 1)\n",
        "plt.plot(x_values, y_x(x_values))\n",
        "plt.title('y = x')\n",
        "\n",
        "plt.subplot(3, 3, 2)\n",
        "plt.plot(x_values, y_x_squared(x_values))\n",
        "plt.title('y = x^2')\n",
        "\n",
        "plt.subplot(3, 3, 3)\n",
        "plt.plot(x_values, x_cubed_over_100(x_values))\n",
        "plt.title('y = x^3/100')\n",
        "\n",
        "plt.subplot(3, 3, 4)\n",
        "plt.plot(x_values, y_sin_x(x_values))\n",
        "plt.title('y = sin(x)')\n",
        "\n",
        "plt.subplot(3, 3, 5)\n",
        "plt.plot(x_values, y_sin_x_over_x(x_values))\n",
        "plt.title('y = sin(x)/x')\n",
        "\n",
        "plt.subplot(3, 3, 6)\n",
        "plt.plot(x_values, y_log_x(x_values))\n",
        "plt.title('y = log(x)')\n",
        "\n",
        "plt.subplot(3, 3, 7)\n",
        "plt.plot(x_values, y_exp_x(x_values))\n",
        "plt.title('y = e^x')\n",
        "\n",
        "plt.tight_layout()\n",
        "plt.show()\n"
      ],
      "metadata": {
        "colab": {
          "base_uri": "https://localhost:8080/",
          "height": 807
        },
        "id": "SLChKSm4Yi5c",
        "outputId": "b369c1f5-1a5c-4e2f-d7be-b291928304f5"
      },
      "execution_count": 10,
      "outputs": [
        {
          "output_type": "display_data",
          "data": {
            "text/plain": [
              "<Figure size 1200x800 with 7 Axes>"
            ],
            "image/png": "[encoded data removed]"
          },
          "metadata": {}
        }
      ]
    },
    {
      "cell_type": "markdown",
      "source": [
        "Q10"
      ],
      "metadata": {
        "id": "8JeIfS4taO-8"
      }
    },
    {
      "cell_type": "code",
      "source": [
        "import pandas as pd\n",
        "\n",
        "# Generate a matrix of size 20x5 with random numbers from 1 to 2\n",
        "matrix = np.random.uniform(1, 2, size=(20, 5))\n",
        "\n",
        "# Create a Pandas DataFrame\n",
        "df = pd.DataFrame(matrix, columns=['a', 'b', 'c', 'd', 'e'])\n",
        "\n",
        "# Find the column with the highest standard deviation\n",
        "max_std_column = df.std().idxmax()\n",
        "\n",
        "# Find the row with the lowest mean\n",
        "min_mean_row = df.mean(axis=1).idxmin()\n",
        "\n",
        "# Print the DataFrame\n",
        "print(\"Generated DataFrame:\")\n",
        "print(df)\n",
        "\n",
        "# Print the results\n",
        "print(\"\\nColumn with the highest standard deviation:\", max_std_column)\n",
        "print(\"Row with the lowest mean:\", min_mean_row)\n"
      ],
      "metadata": {
        "colab": {
          "base_uri": "https://localhost:8080/"
        },
        "id": "EZzO6iwcYndY",
        "outputId": "dec8a17d-abfc-48b2-ae91-ea1480ef0476"
      },
      "execution_count": 11,
      "outputs": [
        {
          "output_type": "stream",
          "name": "stdout",
          "text": [
            "Generated DataFrame:\n",
            "           a         b         c         d         e\n",
            "0   1.657328  1.718279  1.752038  1.530108  1.669524\n",
            "1   1.257953  1.628071  1.899488  1.215227  1.307963\n",
            "2   1.106005  1.772660  1.865536  1.095469  1.812301\n",
            "3   1.397665  1.810795  1.540682  1.621924  1.310082\n",
            "4   1.461088  1.621869  1.470903  1.907257  1.560772\n",
            "5   1.284792  1.289344  1.318037  1.451533  1.809958\n",
            "6   1.685953  1.046975  1.987610  1.605945  1.381030\n",
            "7   1.060525  1.310853  1.338067  1.250623  1.456647\n",
            "8   1.934687  1.031050  1.872762  1.911723  1.495755\n",
            "9   1.903528  1.801319  1.839163  1.186696  1.882553\n",
            "10  1.978611  1.761061  1.528151  1.919964  1.525547\n",
            "11  1.064865  1.770646  1.411206  1.369052  1.385097\n",
            "12  1.146278  1.468780  1.997246  1.255571  1.538370\n",
            "13  1.331666  1.412024  1.621262  1.569981  1.551412\n",
            "14  1.338755  1.121183  1.950502  1.581288  1.172816\n",
            "15  1.560643  1.467683  1.800812  1.075641  1.376671\n",
            "16  1.721568  1.170532  1.219024  1.977251  1.535849\n",
            "17  1.684602  1.763401  1.613382  1.427002  1.310364\n",
            "18  1.294187  1.538470  1.726349  1.607363  1.163739\n",
            "19  1.915849  1.413246  1.434999  1.850292  1.926582\n",
            "\n",
            "Column with the highest standard deviation: a\n",
            "Row with the lowest mean: 7\n"
          ]
        }
      ]
    },
    {
      "cell_type": "markdown",
      "source": [
        "Q11"
      ],
      "metadata": {
        "id": "EISMOOXKaWMW"
      }
    },
    {
      "cell_type": "code",
      "source": [
        "# Add a new column \"f\" which is the sum of columns \"a\", \"b\", \"c\", \"d\", \"e\"\n",
        "df['f'] = df[['a', 'b', 'c', 'd', 'e']].sum(axis=1)\n",
        "\n",
        "# Create a new column \"g\" based on the value in column \"f\"\n",
        "df['g'] = np.where(df['f'] < 8, 'LT8', 'GT8')\n",
        "\n",
        "# Find the number of rows where the value in column \"g\" is \"LT8\"\n",
        "num_rows_LT8 = df[df['g'] == 'LT8'].shape[0]\n",
        "\n",
        "# Find the standard deviation of column \"f\" for rows where \"g\" is \"LT8\" and \"GT8\"\n",
        "std_LT8 = df.loc[df['g'] == 'LT8', 'f'].std()\n",
        "std_GT8 = df.loc[df['g'] == 'GT8', 'f'].std()\n",
        "\n",
        "# Print the updated DataFrame\n",
        "print(\"Updated DataFrame:\")\n",
        "print(df)\n",
        "\n",
        "# Print the results\n",
        "print(\"\\nNumber of rows where 'g' is 'LT8':\", num_rows_LT8)\n",
        "print(\"Standard deviation of column 'f' where 'g' is 'LT8':\", std_LT8)\n",
        "print(\"Standard deviation of column 'f' where 'g' is 'GT8':\", std_GT8)\n"
      ],
      "metadata": {
        "colab": {
          "base_uri": "https://localhost:8080/"
        },
        "id": "mMn3rvYcaXA9",
        "outputId": "bf87b3d1-e54e-41c6-ae19-81ec048a3d29"
      },
      "execution_count": 12,
      "outputs": [
        {
          "output_type": "stream",
          "name": "stdout",
          "text": [
            "Updated DataFrame:\n",
            "           a         b         c         d         e         f    g\n",
            "0   1.657328  1.718279  1.752038  1.530108  1.669524  8.327277  GT8\n",
            "1   1.257953  1.628071  1.899488  1.215227  1.307963  7.308702  LT8\n",
            "2   1.106005  1.772660  1.865536  1.095469  1.812301  7.651971  LT8\n",
            "3   1.397665  1.810795  1.540682  1.621924  1.310082  7.681148  LT8\n",
            "4   1.461088  1.621869  1.470903  1.907257  1.560772  8.021890  GT8\n",
            "5   1.284792  1.289344  1.318037  1.451533  1.809958  7.153664  LT8\n",
            "6   1.685953  1.046975  1.987610  1.605945  1.381030  7.707513  LT8\n",
            "7   1.060525  1.310853  1.338067  1.250623  1.456647  6.416715  LT8\n",
            "8   1.934687  1.031050  1.872762  1.911723  1.495755  8.245977  GT8\n",
            "9   1.903528  1.801319  1.839163  1.186696  1.882553  8.613260  GT8\n",
            "10  1.978611  1.761061  1.528151  1.919964  1.525547  8.713334  GT8\n",
            "11  1.064865  1.770646  1.411206  1.369052  1.385097  7.000866  LT8\n",
            "12  1.146278  1.468780  1.997246  1.255571  1.538370  7.406246  LT8\n",
            "13  1.331666  1.412024  1.621262  1.569981  1.551412  7.486345  LT8\n",
            "14  1.338755  1.121183  1.950502  1.581288  1.172816  7.164544  LT8\n",
            "15  1.560643  1.467683  1.800812  1.075641  1.376671  7.281449  LT8\n",
            "16  1.721568  1.170532  1.219024  1.977251  1.535849  7.624225  LT8\n",
            "17  1.684602  1.763401  1.613382  1.427002  1.310364  7.798752  LT8\n",
            "18  1.294187  1.538470  1.726349  1.607363  1.163739  7.330109  LT8\n",
            "19  1.915849  1.413246  1.434999  1.850292  1.926582  8.540968  GT8\n",
            "\n",
            "Number of rows where 'g' is 'LT8': 14\n",
            "Standard deviation of column 'f' where 'g' is 'LT8': 0.3614872392730576\n",
            "Standard deviation of column 'f' where 'g' is 'GT8': 0.2587870514928028\n"
          ]
        }
      ]
    },
    {
      "cell_type": "markdown",
      "source": [
        "Q12"
      ],
      "metadata": {
        "id": "BoPUC2iibhkG"
      }
    },
    {
      "cell_type": "markdown",
      "source": [
        "Broadcasting in NumPy is a powerful feature that allows operations on arrays of different shapes and sizes. It enables element-wise operations even when the shapes of the arrays are not identical, by automatically expanding the smaller array to match the shape of the larger array."
      ],
      "metadata": {
        "id": "5QG_66g34wEH"
      }
    },
    {
      "cell_type": "code",
      "source": [
        "# Example arrays\n",
        "a = np.array([1, 2, 3])\n",
        "b = np.array(2)\n",
        "\n",
        "# Broadcasting: adding a scalar to an array\n",
        "result = a + b\n",
        "\n",
        "# Print the result\n",
        "print(\"Array a:\", a)\n",
        "print(\"Scalar b:\", b)\n",
        "print(\"Result after broadcasting:\", result)\n"
      ],
      "metadata": {
        "id": "jkvDGRSrbi1J",
        "colab": {
          "base_uri": "https://localhost:8080/"
        },
        "outputId": "0d0fb4c2-bfd5-4cb4-998c-9410fc66c4d5"
      },
      "execution_count": 13,
      "outputs": [
        {
          "output_type": "stream",
          "name": "stdout",
          "text": [
            "Array a: [1 2 3]\n",
            "Scalar b: 2\n",
            "Result after broadcasting: [3 4 5]\n"
          ]
        }
      ]
    },
    {
      "cell_type": "markdown",
      "source": [
        "Q13"
      ],
      "metadata": {
        "id": "OA4B8EHvb_HU"
      }
    },
    {
      "cell_type": "code",
      "source": [
        "def custom_argmin(arr):\n",
        "    min_index = 0  # Assume the first index as the initial minimum index\n",
        "    min_value = arr[0]  # Assume the first element as the initial minimum value\n",
        "\n",
        "    for i in range(1, len(arr)):\n",
        "        if arr[i] < min_value:\n",
        "            min_value = arr[i]\n",
        "            min_index = i\n",
        "\n",
        "    return min_index\n",
        "\n",
        "# Example array\n",
        "example_array = np.array([5, 2, 8, 1, 3, 7])\n",
        "\n",
        "# Using the custom function\n",
        "result_custom = custom_argmin(example_array)\n",
        "\n",
        "# Using np.argmin to verify\n",
        "result_np = np.argmin(example_array)\n",
        "\n",
        "# Print the results\n",
        "print(\"Index of minimum element (custom function):\", result_custom)\n",
        "print(\"Index of minimum element (np.argmin):\", result_np)\n"
      ],
      "metadata": {
        "colab": {
          "base_uri": "https://localhost:8080/"
        },
        "id": "vs775pKVcAmA",
        "outputId": "6e558c80-1457-4157-bfd6-afa01ac3dce6"
      },
      "execution_count": 14,
      "outputs": [
        {
          "output_type": "stream",
          "name": "stdout",
          "text": [
            "Index of minimum element (custom function): 3\n",
            "Index of minimum element (np.argmin): 3\n"
          ]
        }
      ]
    }
  ]
}